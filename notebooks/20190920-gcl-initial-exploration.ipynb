{
 "cells": [
  {
   "cell_type": "markdown",
   "metadata": {},
   "source": [
    "# Import Data"
   ]
  },
  {
   "cell_type": "code",
   "execution_count": null,
   "metadata": {
    "_cell_guid": "b1076dfc-b9ad-4769-8c92-a6c4dae69d19",
    "_uuid": "8f2839f25d086af736a60e9eeb907d3b93b6e0e5"
   },
   "outputs": [],
   "source": [
    "# Import libraries\n",
    "from IPython.display import display, HTML # Display functions\n",
    "import numpy as np\n",
    "import pandas as pd\n",
    "import matplotlib.pyplot as plt\n",
    "%matplotlib inline\n",
    "\n",
    "import seaborn as sns\n",
    "sns.set_palette(\"colorblind\") \n",
    "sns.set_style(\"darkgrid\")\n",
    "\n",
    "import os\n",
    "\n",
    "# Set Pandas display options\n",
    "pd.set_option('display.max_rows', 500)\n",
    "pd.set_option('display.max_columns', 500)\n",
    "pd.set_option('display.width', 1000)\n",
    "\n",
    "# Import geospaitial libraries\n",
    "import geopandas as gpd\n",
    "from shapely.geometry import Point\n",
    "from mpl_toolkits.axes_grid1 import make_axes_locatable"
   ]
  },
  {
   "cell_type": "code",
   "execution_count": null,
   "metadata": {
    "_cell_guid": "79c7e3d0-c299-4dcb-8224-4455121ee9b0",
    "_uuid": "d629ff2d2480ee46fbb7e2d37f6b5fab8052498a",
    "scrolled": true
   },
   "outputs": [],
   "source": [
    "# Read data\n",
    "path = \"../data/raw/2004-2019.tsv.zip\"\n",
    "\n",
    "df = pd.read_csv(path, sep='\\t',parse_dates=True)\n",
    "df.head()"
   ]
  },
  {
   "cell_type": "code",
   "execution_count": null,
   "metadata": {},
   "outputs": [],
   "source": [
    "df.info()"
   ]
  },
  {
   "cell_type": "markdown",
   "metadata": {},
   "source": [
    "# Clean Data"
   ]
  },
  {
   "cell_type": "markdown",
   "metadata": {},
   "source": [
    "## Fix column labels\n",
    "\n",
    "A glance at the raw data shows that:\n",
    "* Columns are in Portuguese and will be translated into English for convenience\n",
    "* Column names will be cleaned and standardized\n",
    "* Dates will be converted to Datetime objects\n",
    "* Unecessary columns will be removed"
   ]
  },
  {
   "cell_type": "code",
   "execution_count": null,
   "metadata": {},
   "outputs": [],
   "source": [
    "# Translate column names to English\n",
    "df.columns = [\"Unnamed:_0\", \n",
    "\"Analysis_Date\",\n",
    "\"Last day of analyses of week\",\n",
    "\"Macroregion\",\n",
    "\"State\",\n",
    "\"Product\",\n",
    "\"No of Gas Stations Analyzed\",\n",
    "\"Measurement unit\",\n",
    "\"Mean Price\",\n",
    "\"Std Dev\",\n",
    "\"Min Price\",\n",
    "\"Max Price\",\n",
    "\"Mean Price Margin\",\n",
    "\"Coefficient of variation\",\n",
    "\"Mean Dist Price\",\n",
    "\"Distribution Std Dev\",\n",
    "\"Distribution Min Price\",\n",
    "\"Distribution Max Price\",\n",
    "\"Distribution Coefficient of Variation\",\n",
    "\"Month\",\n",
    "\"Year\"]\n",
    "\n",
    "# Replace whitespace with underscore\n",
    "df.columns = df.columns.str.replace(\" \", \"_\")\n",
    "df.columns = df.columns.str.replace(\"'\", \"\")\n",
    "df.columns = df.columns.str.replace(\"Distribution\", \"Dist\")\n",
    "\n",
    "# Convert datetime columns to datetime objects and rename\n",
    "df[\"Analysis_Date\"] = pd.to_datetime(df[\"Analysis_Date\"])"
   ]
  },
  {
   "cell_type": "markdown",
   "metadata": {},
   "source": [
    "## Fix Values, Datatypes, and NULLs\n",
    "\n",
    "Cleaning the dataset requires a specific strategy: \n",
    "* Correct inappropriate characters\n",
    "* Address NULL values\n",
    "* Convert datatypes\n",
    "\n",
    "For this particular dataset:\n",
    "* Fix inappropriate string characters in several columns that should be numeric\n",
    "* Translate categories in the *Product* column\n",
    "* Rename *Measurement_unit* categories\n",
    "* Convert object types to category type"
   ]
  },
  {
   "cell_type": "code",
   "execution_count": null,
   "metadata": {},
   "outputs": [],
   "source": [
    "df.info()"
   ]
  },
  {
   "cell_type": "code",
   "execution_count": null,
   "metadata": {},
   "outputs": [],
   "source": [
    "# Correct dtypes\n",
    "float_columns = ['Mean_Price_Margin', 'Mean_Dist_Price', 'Dist_Std_Dev',\n",
    "       'Dist_Min_Price', 'Dist_Max_Price',\n",
    "       \"Dist_Coefficient_of_Variation\"]\n",
    "\n",
    "# Replace \"-\" with 0 in order to convert to float\n",
    "for column in float_columns:\n",
    "    df[column] = df[column].str.replace(\"-\", \"0\")\n",
    "\n",
    "# Fill nulls and convert to float\n",
    "df[float_columns] = df[float_columns].fillna(0).astype(float)\n",
    "\n",
    "assert df[float_columns].dtypes.all() == np.float64\n",
    "\n",
    "# Rename Product categories\n",
    "products = {\"ÓLEO DIESEL\":\"DIESEL\", \"GASOLINA COMUM\":\"PETROL\", \"GLP\":\"LPG\", \n",
    "            \"ETANOL HIDRATADO\":\"HYDROUS ETHANOL\", \"GNV\":\"NATURAL GAS\", \"ÓLEO DIESEL S10\":\"DIESEL S10\"}\n",
    "\n",
    "df[\"Product\"] = df.Product.map(products)\n",
    "\n",
    "# Rename Measurement_unit categories\n",
    "units = {\"R$/l\":\"liter\", \"R$/13Kg\":\"13kg\", \"R$/m3\":\"m3\"}\n",
    "\n",
    "df[\"Measurement_unit\"] = df[\"Measurement_unit\"].map(units)\n",
    "\n",
    "# Convert objects to category\n",
    "object_cols = df.select_dtypes(include='object').columns\n",
    "df[object_cols] = df[object_cols].astype('category', inplace=True)"
   ]
  },
  {
   "cell_type": "markdown",
   "metadata": {},
   "source": [
    "## Feature Enginering\n",
    "\n",
    "New columns created:\n",
    "* Price_Group - separating LPG from the other fuels for easier visualization\n",
    "* Mean_Price_Norm - Normalized Mean_Price by fuel Product\n",
    "* Year_Month - for time series plots"
   ]
  },
  {
   "cell_type": "code",
   "execution_count": null,
   "metadata": {},
   "outputs": [],
   "source": [
    "# Create Price Groups: Group 1 are liquid fuels plus Natural Gas, Group 2 is LPG\n",
    "df['Price_Group'] = df.Measurement_unit.map({'liter':int(1), 'm3':int(1), '13kg':int(2)})\n",
    "\n",
    "# Normalize Mean Price for each fuel group\n",
    "normalizer = lambda x: (x - x.min()) / (x.max() - x.min())\n",
    "\n",
    "# Normalize Prices for Price_Group_1: all fuels except LPG\n",
    "df[\"Mean_Price_Norm_Price_Group_1\"] = df[df.Price_Group==1].groupby(\"Product\")[\"Mean_Price\"].transform(normalizer)\n",
    "\n",
    "# Normalize Prices for Price_Group_2: LPG\n",
    "df[\"Mean_Price_Norm_Price_Group_2\"] = df[df.Price_Group==2].groupby(\"Product\")[\"Mean_Price\"].transform(normalizer)\n",
    "\n",
    "# Combine Price_Group columns into one column\n",
    "df[\"Mean_Price_Norm\"] = df[\"Mean_Price_Norm_Price_Group_1\"].fillna(df[\"Mean_Price_Norm_Price_Group_2\"])\n",
    "df.drop([\"Mean_Price_Norm_Price_Group_1\", \"Mean_Price_Norm_Price_Group_2\"], axis=1, inplace=True)\n",
    "\n",
    "# Create Year_Month column for time series plots\n",
    "year_month = df.Year.astype(str) + \"-\" + df.Month.astype(str)\n",
    "df[\"Year_Month\"] = pd.to_datetime(year_month)"
   ]
  },
  {
   "cell_type": "markdown",
   "metadata": {},
   "source": [
    "Double check that the values were correctly normalized:"
   ]
  },
  {
   "cell_type": "code",
   "execution_count": null,
   "metadata": {},
   "outputs": [],
   "source": [
    "# Check max/min values of each Product group to ensure that they were properly normalized\n",
    "products = df.Product.unique().tolist()\n",
    "\n",
    "for product in range(len(products)):\n",
    "    mins = df[df.Product==products[product]][\"Mean_Price_Norm\"].min()\n",
    "    maxs = df[df.Product==products[product]][\"Mean_Price_Norm\"].max()\n",
    "    \n",
    "    print(products[product])\n",
    "    print(mins, maxs)"
   ]
  },
  {
   "cell_type": "markdown",
   "metadata": {},
   "source": [
    "## Drop unecessary columns"
   ]
  },
  {
   "cell_type": "code",
   "execution_count": null,
   "metadata": {},
   "outputs": [],
   "source": [
    "df.drop(['Unnamed:_0', 'Last_day_of_analyses_of_week'], axis = 1, inplace=True)"
   ]
  },
  {
   "cell_type": "markdown",
   "metadata": {},
   "source": [
    "## Save clean data to file"
   ]
  },
  {
   "cell_type": "code",
   "execution_count": null,
   "metadata": {
    "scrolled": true
   },
   "outputs": [],
   "source": [
    "display(df.head())\n",
    "\n",
    "df.to_csv('../data/interim/fuel_in_brazil_clean.csv')"
   ]
  },
  {
   "cell_type": "markdown",
   "metadata": {},
   "source": [
    "# Exploratory Data Analysis"
   ]
  },
  {
   "cell_type": "markdown",
   "metadata": {},
   "source": [
    "The questions posed by this analysis can be answered with *Mean_Price*. The other numeric variables can be excluded with the exception of *Mean_Dist_Price* because of some interesting behavior we will look at. The columns included in this analysis will be:\n",
    "* Analysis_Date\n",
    "* Macroregion\n",
    "* State\n",
    "* Product\n",
    "* No_of_Gas_Stations_Analyzed\n",
    "* Measurement_unit\n",
    "* Mean_Price\n",
    "* Mean_Dist_Price\n",
    "* Month\n",
    "* Year\n",
    "* Price_Group"
   ]
  },
  {
   "cell_type": "code",
   "execution_count": null,
   "metadata": {},
   "outputs": [],
   "source": [
    "# Drop unneeded columns\n",
    "df.drop(['Std_Dev', \n",
    "         'Min_Price', 'Max_Price', 'Mean_Price_Margin', \n",
    "         'Coefficient_of_variation', \n",
    "         'Dist_Std_Dev', 'Dist_Min_Price', 'Dist_Max_Price', \n",
    "         'Dist_Coefficient_of_Variation'], axis = 1, inplace=True)\n",
    "\n",
    "# Save to clean data folder\n",
    "df.to_csv('../data/processed/fuel_in_brazil_clean.csv')"
   ]
  },
  {
   "cell_type": "markdown",
   "metadata": {},
   "source": [
    "## Helper Functions"
   ]
  },
  {
   "cell_type": "markdown",
   "metadata": {},
   "source": [
    "### count_plot( )"
   ]
  },
  {
   "cell_type": "code",
   "execution_count": null,
   "metadata": {},
   "outputs": [],
   "source": [
    "def count_plot(column, df, title=None, xlabel=None, ylabel=None, rot=None):\n",
    "\n",
    "    fig, ax = plt.subplots(figsize=(14,6))\n",
    "    ax = sns.countplot(x=column, data=df)\n",
    "    plt.title(title, fontsize=28)\n",
    "    plt.xlabel(ylabel, fontsize=22)\n",
    "    plt.ylabel(xlabel, fontsize=24)\n",
    "    plt.xticks(rotation=rot, fontsize=20)\n",
    "    plt.yticks(fontsize=16)\n",
    "    plt.tight_layout()\n",
    "    \n",
    "    plt.show()"
   ]
  },
  {
   "cell_type": "markdown",
   "metadata": {},
   "source": [
    "### ecdf( ) - Plot empirical distribution function (ECDF)"
   ]
  },
  {
   "cell_type": "code",
   "execution_count": null,
   "metadata": {},
   "outputs": [],
   "source": [
    "# Define ECDF function\n",
    "def ecdf(data, column, title=None, color=None):\n",
    "    n = len(data[column])\n",
    "    x = np.sort(data[column])\n",
    "    y = np.arange(1, n+1)/n\n",
    "    \n",
    "    # Plot\n",
    "    plt.figure(figsize=(10,5))\n",
    "    plt.plot(x, y, marker='.', linestyle='none', color=color)\n",
    "    plt.title(title)\n",
    "    plt.xlabel(\"{}\".format(column))\n",
    "    plt.ylabel(\"ECDF\")"
   ]
  },
  {
   "cell_type": "markdown",
   "metadata": {},
   "source": [
    "### ecdf_category( ) - Plot multiple ECDFs by column category"
   ]
  },
  {
   "cell_type": "code",
   "execution_count": null,
   "metadata": {},
   "outputs": [],
   "source": [
    "def ecdf_category(column, group, title=None, xlabel=None):\n",
    "\n",
    "    # Create figure with ECDF plots for each fuel Mean Price \n",
    "    products = df[group].unique().tolist()\n",
    "\n",
    "    # Group dataframe by Product and select Mean Price\n",
    "    product_group = df.groupby(group)[column]\n",
    "\n",
    "    # Set rows and columns\n",
    "    ncols = int(3)\n",
    "    nrows = int(len(products) / ncols if len(products) % 2 == 0 else (len(products) + 1) / ncols)\n",
    "    \n",
    "\n",
    "    # List of colors\n",
    "    color = [\"b\", \"y\", \"g\", \"m\", \"r\", \"c\"]\n",
    "\n",
    "    fig, ax = plt.subplots(nrows=nrows, ncols=ncols, figsize=(18, 10))\n",
    "\n",
    "    # Index counter\n",
    "    n = 0\n",
    "\n",
    "    # Create subplots\n",
    "    for row in range(nrows):\n",
    "        for col in range(ncols):\n",
    "        \n",
    "            df_product = product_group.get_group(products[n]).to_frame(\"Mean Price\")\n",
    "   \n",
    "            x = np.sort(df_product[\"Mean Price\"]) \n",
    "            y = np.arange(1, len(df_product[\"Mean Price\"])+1) / len(df_product[\"Mean Price\"])\n",
    "        \n",
    "            ax[row,col].step(x, y, color=color[n])\n",
    "            ax[row,col].set_ylabel(\"ECDF\")\n",
    "            ax[row,col].set_xlabel(xlabel)\n",
    "            ax[row,col].set_title(products[n])\n",
    "        \n",
    "            n += 1\n",
    "\n",
    "    plt.tight_layout(pad=5)\n",
    "    plt.suptitle(title, fontsize=18)\n",
    "    \n",
    "    return plt.show()"
   ]
  },
  {
   "cell_type": "markdown",
   "metadata": {},
   "source": [
    "## Feature by Feature Analysis"
   ]
  },
  {
   "cell_type": "markdown",
   "metadata": {},
   "source": [
    "### Categorical Variables\n",
    "\n",
    "Categorical variables should not be confused with the category datatype. The categorical variables are:\n",
    "* Macroregion\n",
    "* State\n",
    "* Product\n",
    "* Measurement_unit\n",
    "* Price_Group"
   ]
  },
  {
   "cell_type": "markdown",
   "metadata": {},
   "source": [
    "#### *Macroregion*"
   ]
  },
  {
   "cell_type": "code",
   "execution_count": null,
   "metadata": {},
   "outputs": [],
   "source": [
    "# Show names and percentage of observations for each macroregion\n",
    "df.Macroregion.value_counts(normalize=True)"
   ]
  },
  {
   "cell_type": "code",
   "execution_count": null,
   "metadata": {},
   "outputs": [],
   "source": [
    "# Countplot of observations per Macroregion\n",
    "count_plot(\"Macroregion\", df, title=\"Number of Observations per Region\", xlabel='Macroregion', ylabel='Count')"
   ]
  },
  {
   "cell_type": "markdown",
   "metadata": {},
   "source": [
    "### *State*\n",
    "\n",
    "States are found within macroregions. The dataset has observations more or less evenly distributed across the *State* column, not the *Macroregion* column."
   ]
  },
  {
   "cell_type": "code",
   "execution_count": null,
   "metadata": {},
   "outputs": [],
   "source": [
    "# Examine number of observations per state\n",
    "df['State'].value_counts()"
   ]
  },
  {
   "cell_type": "code",
   "execution_count": null,
   "metadata": {},
   "outputs": [],
   "source": [
    "# Countplot of observations per State\n",
    "fig, ax = plt.subplots(figsize=(18,6))\n",
    "ax = sns.countplot(x=\"State\", data=df)\n",
    "plt.title(\"Number of Observations per State\", fontsize=24)\n",
    "plt.xlabel('State', fontsize=18)\n",
    "plt.ylabel('Count', fontsize=18)\n",
    "plt.xticks(rotation=45, fontsize=12, ha='right')\n",
    "plt.show()"
   ]
  },
  {
   "cell_type": "markdown",
   "metadata": {},
   "source": [
    "### *Product*"
   ]
  },
  {
   "cell_type": "code",
   "execution_count": null,
   "metadata": {},
   "outputs": [],
   "source": [
    "# Display percentages of products\n",
    "df['Product'].value_counts(normalize=True)"
   ]
  },
  {
   "cell_type": "code",
   "execution_count": null,
   "metadata": {},
   "outputs": [],
   "source": [
    "# Countplot of observations per Macroregion\n",
    "count_plot('Product', df, title=\"Proportion of Fuel Products\", xlabel='Fuel', ylabel='Count', rot=12)"
   ]
  },
  {
   "cell_type": "markdown",
   "metadata": {},
   "source": [
    "For which years do observations exist for each fuel type?"
   ]
  },
  {
   "cell_type": "code",
   "execution_count": null,
   "metadata": {},
   "outputs": [],
   "source": [
    "## Capture list of products\n",
    "products = df.Product.unique().tolist()\n",
    "\n",
    "fuel_years = pd.DataFrame()\n",
    "\n",
    "product_group = df.groupby(\"Product\")\n",
    "\n",
    "## Extract first and last years of observation for each fuel product\n",
    "for i, product in enumerate(products):\n",
    "    \n",
    "    df_temp = pd.DataFrame({\"Product\":product, \"First_Year\":product_group.get_group(product)[\"Year\"].min(), \n",
    "                            \"Last_Year\":product_group.get_group(product)[\"Year\"].max()}, index=[i])\n",
    "    \n",
    "    fuel_years = fuel_years.append(df_temp)\n",
    "    \n",
    "fuel_years.set_index(\"Product\", inplace=True)\n",
    "\n",
    "fuel_years"
   ]
  },
  {
   "cell_type": "markdown",
   "metadata": {},
   "source": [
    "Notice that S10 DIESEL observations begin in 2012 while the others begin in 2004. "
   ]
  },
  {
   "cell_type": "markdown",
   "metadata": {},
   "source": [
    "What is the proportion of fuel products observed in the dataset in each region?"
   ]
  },
  {
   "cell_type": "code",
   "execution_count": null,
   "metadata": {},
   "outputs": [],
   "source": [
    "# Group by state\n",
    "fuels_by_state = df.groupby(\"State\")[\"Product\"].value_counts().to_frame(\"Count\").reset_index()\n",
    "fuels_by_state = fuels_by_state.pivot(\"State\", \"Product\")\n",
    "\n",
    "fig, ax = plt.subplots(figsize=(15,10))\n",
    "\n",
    "# Horizontal stacked bar chart\n",
    "fuels_by_state.plot(kind=\"barh\", stacked=True, ax=ax)\n",
    "\n",
    "plt.title(\"Fuel Products Observed by State\", fontsize=22)\n",
    "plt.xlabel(\"Number of Observations\", fontsize=18)\n",
    "plt.ylabel(\"State\", fontsize=18)\n",
    "plt.xticks(fontsize=12)\n",
    "plt.yticks(fontsize=12)\n",
    "\n",
    "# Sort order was confirmed before customizing legend\n",
    "ax.legend(sorted(df.Product.unique().tolist()), loc='center left', bbox_to_anchor=(1, 0.5),prop={'size': 15})\n",
    "\n",
    "plt.tight_layout()\n",
    "\n",
    "plt.show()"
   ]
  },
  {
   "cell_type": "markdown",
   "metadata": {},
   "source": [
    "#### *Measurement_unit*\n",
    "\n",
    "Liquid fuels are measured in liters, LPG by 13kg cylinder, and Natural Gas by cubic meter."
   ]
  },
  {
   "cell_type": "code",
   "execution_count": null,
   "metadata": {},
   "outputs": [],
   "source": [
    "df.Measurement_unit.value_counts(normalize=True)"
   ]
  },
  {
   "cell_type": "code",
   "execution_count": null,
   "metadata": {},
   "outputs": [],
   "source": [
    "# Graph value counts\n",
    "\n",
    "fig, ax = plt.subplots(1, 1, figsize=(10,3))\n",
    "\n",
    "df.Measurement_unit.value_counts(normalize=True).to_frame(\"Measurement_unit\").T.plot(kind=\"barh\", stacked=True, ax=ax,\n",
    "                                                    fontsize=14)\n",
    "\n",
    "plt.legend(bbox_to_anchor=(1.05, 1))\n",
    "plt.xlim(0, 1)\n",
    "plt.title(\"Proportion of each Measurement Unit\", fontsize=24)\n",
    "plt.show()"
   ]
  },
  {
   "cell_type": "markdown",
   "metadata": {},
   "source": [
    "#### *Price_Group*\n",
    "\n",
    "Price Group 1 contains ethanol, petrol, diesel and gas, while Price Group 2 contains only LPG"
   ]
  },
  {
   "cell_type": "code",
   "execution_count": null,
   "metadata": {},
   "outputs": [],
   "source": [
    "# Graph value counts\n",
    "\n",
    "fig, ax = plt.subplots(1, 1, figsize=(10,3))\n",
    "\n",
    "df.Price_Group.value_counts(normalize=True).to_frame(\"Price_Group\").T.plot(kind=\"barh\", stacked=True, ax=ax,\n",
    "                                                    fontsize=14)\n",
    "\n",
    "plt.legend(bbox_to_anchor=(1.05, 1))\n",
    "plt.xlim(0, 1)\n",
    "plt.title(\"Proportion of each Price Group\", fontsize=24)\n",
    "plt.show()"
   ]
  },
  {
   "cell_type": "markdown",
   "metadata": {},
   "source": [
    "### Numeric Variables\n",
    "\n",
    "The numeric variables are:\n",
    "* Analysis_Date\n",
    "* No_of_Gas_Stations_Analyzed\n",
    "* Mean_Price\n",
    "* Mean_Dist_Price\n",
    "* Month\n",
    "* Year"
   ]
  },
  {
   "cell_type": "markdown",
   "metadata": {},
   "source": [
    "#### *Analysis_Date*\n",
    "\n",
    "This columns is a time unit going by week."
   ]
  },
  {
   "cell_type": "code",
   "execution_count": null,
   "metadata": {},
   "outputs": [],
   "source": [
    "# Display count, start and end dates\n",
    "count = len(df.Analysis_Date)\n",
    "start = df.Analysis_Date.min().strftime('%Y-%m-%d')\n",
    "end = df.Analysis_Date.max().strftime('%Y-%m-%d')\n",
    "\n",
    "print(\"The are {} observations beginning on {} and ending {}\".format(count, start, end))"
   ]
  },
  {
   "cell_type": "markdown",
   "metadata": {},
   "source": [
    "#### *No_of_Gas_Stations_Analyzed*"
   ]
  },
  {
   "cell_type": "code",
   "execution_count": null,
   "metadata": {},
   "outputs": [],
   "source": [
    "# Value counts by percentage\n",
    "df.No_of_Gas_Stations_Analyzed.describe()"
   ]
  },
  {
   "cell_type": "code",
   "execution_count": null,
   "metadata": {},
   "outputs": [],
   "source": [
    "# Create graph of Gas Stations Analyzed per Year\n",
    "gas_stations_by_year = df.groupby([\"Year\", \"State\"])[[\"No_of_Gas_Stations_Analyzed\"]].count().reset_index()\n",
    "\n",
    "fig, ax = plt.subplots(figsize=(28,15))\n",
    "\n",
    "gas_stations_by_year.pivot(\"Year\", \"State\").sort_values(by=\"Year\", ascending=False).plot(kind=\"barh\", stacked=True, ax=ax)\n",
    "\n",
    "plt.title(\"Gas Stations Analyzed per State per Year\", fontsize=36)\n",
    "plt.xlabel(\"Gas Stations\", fontsize=32)\n",
    "plt.ylabel(\"Year\", fontsize=32)\n",
    "plt.xticks(fontsize=28)\n",
    "plt.yticks(fontsize=28)\n",
    "\n",
    "# Sort order was confirmed before customizing legend\n",
    "ax.legend(sorted(gas_stations_by_year.State.unique().tolist()), loc='center left', \n",
    "          bbox_to_anchor=(1, 0.5), prop={'size': 20})\n",
    "\n",
    "\n",
    "plt.show()"
   ]
  },
  {
   "cell_type": "markdown",
   "metadata": {},
   "source": [
    "#### *Mean_Price*\n",
    "\n",
    "The average price paid by the customer at the pump. This is the main metric we are looking at in the analysis."
   ]
  },
  {
   "cell_type": "code",
   "execution_count": null,
   "metadata": {},
   "outputs": [],
   "source": [
    "df.Mean_Price.describe()"
   ]
  },
  {
   "cell_type": "code",
   "execution_count": null,
   "metadata": {},
   "outputs": [],
   "source": [
    "ecdf(df, 'Mean_Price')"
   ]
  },
  {
   "cell_type": "markdown",
   "metadata": {},
   "source": [
    "The above ECDF plot tells us that the *Mean_Price* variable contains more than one distribution. The question is, what accounts for this? The answer is that each *Product* category has its own distribution, although several of them are in a similar price range."
   ]
  },
  {
   "cell_type": "code",
   "execution_count": null,
   "metadata": {
    "scrolled": false
   },
   "outputs": [],
   "source": [
    "# Create a boxplot out of two separate axes with different scales\n",
    "fig, ax = plt.subplots(nrows=1, ncols=2, figsize=(12,6.5), gridspec_kw={\"width_ratios\":[5,1], \"wspace\":0})\n",
    "\n",
    "# Axis for Products with similar means\n",
    "sns.boxplot(x=\"Product\", y=\"Mean_Price\", data=df[df.Product!=\"LPG\"], order=[\"HYDROUS ETHANOL\", \"PETROL\", \n",
    "                                                              \"NATURAL GAS\", \"DIESEL\", \"DIESEL S10\"], \n",
    "            ax=ax[0])\n",
    "\n",
    "# Axis for LPG\n",
    "sns.boxplot(x=\"Product\", y=\"Mean_Price\", data=df[df.Product==\"LPG\"], ax=ax[1], color='g', width=4)\n",
    "\n",
    "plt.suptitle(\"Distributions of Mean Prices for Fuels in Brazil\", fontsize=18)\n",
    "\n",
    "# Format LPG plot\n",
    "ax[1].yaxis.tick_right()\n",
    "ax[1].yaxis.set_label_position(\"right\")\n",
    "ax[0].set_xlabel('Product', fontsize=16)\n",
    "ax[1].set_xlabel('LPG')\n",
    "ax[0].set_ylabel('Price Group 1: Liquid Fuels & Natural Gas', fontsize=16)\n",
    "ax[1].set_ylabel('Price Group 2: LPG', fontsize=16)\n",
    "ax[1].set(xticklabels=[])\n",
    "\n",
    "\n",
    "# Add subplot for LPG\n",
    "plt.tight_layout(pad=5)"
   ]
  },
  {
   "cell_type": "markdown",
   "metadata": {},
   "source": [
    "Create separate *Mean_Price* ECDF plots for each fuel product:"
   ]
  },
  {
   "cell_type": "code",
   "execution_count": null,
   "metadata": {
    "scrolled": false
   },
   "outputs": [],
   "source": [
    "ecdf_category(\"Mean_Price\", \"Product\", title=\"ECDF Curves for Fuel Mean Price\", xlabel=\"Mean Price\")"
   ]
  },
  {
   "cell_type": "code",
   "execution_count": null,
   "metadata": {
    "scrolled": true
   },
   "outputs": [],
   "source": [
    "# Create a boxplot out of two separate axes with different scales\n",
    "fig, ax = plt.subplots(nrows=1, ncols=2, figsize=(12,6.5), gridspec_kw={\"width_ratios\":[5,1], \"wspace\":0})\n",
    "\n",
    "# Axis for Products with similar means\n",
    "sns.boxplot(x=\"Product\", y=\"Mean_Price\", data=df[df.Product!=\"LPG\"], order=[\"HYDROUS ETHANOL\", \"PETROL\", \n",
    "                                                              \"NATURAL GAS\", \"DIESEL\", \"DIESEL S10\"], \n",
    "            ax=ax[0])\n",
    "\n",
    "# Axis for LPG\n",
    "sns.boxplot(x=\"Product\", y=\"Mean_Price\", data=df[df.Product==\"LPG\"], ax=ax[1], color='g', width=4)\n",
    "\n",
    "plt.suptitle(\"Distribution of Mean Prices for Fuels in Brazil\", fontsize=18)\n",
    "\n",
    "# Format LPG plot\n",
    "ax[1].yaxis.tick_right()\n",
    "ax[1].yaxis.set_label_position(\"right\")\n",
    "ax[0].set_xlabel('Product', fontsize=16)\n",
    "ax[1].set_xlabel('LPG')\n",
    "ax[0].set_ylabel('Price Group 1: Liquid Fuels & Natural Gas', fontsize=16)\n",
    "ax[1].set_ylabel('Price Group 2: LPG', fontsize=16)\n",
    "ax[1].set(xticklabels=[])\n",
    "\n",
    "\n",
    "# Add subplot for LPG\n",
    "plt.tight_layout(pad=3.5)"
   ]
  },
  {
   "cell_type": "markdown",
   "metadata": {},
   "source": [
    "*Mean_Price* Time Series plots:"
   ]
  },
  {
   "cell_type": "code",
   "execution_count": null,
   "metadata": {},
   "outputs": [],
   "source": [
    "# Plot yearly Mean_Price\n",
    "fig, ax = plt.subplots(nrows=2, ncols=1, figsize=(12,9))\n",
    "\n",
    "# Plot of fuels not including LPG\n",
    "sns.lineplot(x=\"Year_Month\", y=\"Mean_Price\", data=df[df.Product!=\"LPG\"], hue=\"Product\", ax=ax[0], err_style=None)\n",
    "ax[0].set_xlabel(\"Year\")\n",
    "ax[0].set_title(\"Liquid Fuels + Natural Gas\", fontsize=14)\n",
    "\n",
    "# Plot of LPG\n",
    "sns.lineplot(x=\"Year_Month\", y=\"Mean_Price\", data=df[df.Product == \"LPG\"], hue=\"Product\", ax=ax[1], err_style=None)\n",
    "ax[1].set_xlabel(\"Year\")\n",
    "ax[1].set_title(\"LPG\", fontsize=14)\n",
    "\n",
    "plt.suptitle(\"Brazil: National Yearly Mean Price of Fuels\", fontsize=18)\n",
    "plt.tight_layout(pad=5)\n",
    "plt.show()"
   ]
  },
  {
   "cell_type": "markdown",
   "metadata": {},
   "source": [
    "#### *Mean_Dist_Price*\n",
    "\n",
    "The average wholesale price paid by supplier. While not being used in the analysis, it's included because of some interesting behavior it has:"
   ]
  },
  {
   "cell_type": "code",
   "execution_count": null,
   "metadata": {},
   "outputs": [],
   "source": [
    "ecdf_category(\"Mean_Dist_Price\", \"Product\", title=\"ECDF Curves for Fuel Mean Distribution Price\", \n",
    "             xlabel=\"Mean Distribution Price\")"
   ]
  },
  {
   "cell_type": "markdown",
   "metadata": {},
   "source": [
    "Note the horizontal and vertical lines, what do these mean? It is possible there were price controls in effect for some fuels."
   ]
  },
  {
   "cell_type": "code",
   "execution_count": null,
   "metadata": {
    "scrolled": false
   },
   "outputs": [],
   "source": [
    "# Create a boxplot out of two separate axes with different scales\n",
    "fig, ax = plt.subplots(nrows=1, ncols=2, figsize=(12,6.5), gridspec_kw={\"width_ratios\":[5,1], \"wspace\":0})\n",
    "\n",
    "# Axis for Products with similar means\n",
    "sns.boxplot(x=\"Product\", y=\"Mean_Dist_Price\", data=df[df.Product!=\"LPG\"], order=[\"HYDROUS ETHANOL\", \"PETROL\", \n",
    "                                                              \"NATURAL GAS\", \"DIESEL\", \"DIESEL S10\"], \n",
    "            ax=ax[0])\n",
    "\n",
    "# Axis for LPG\n",
    "sns.boxplot(x=\"Product\", y=\"Mean_Dist_Price\", data=df[df.Product==\"LPG\"], ax=ax[1], color='g', width=4)\n",
    "\n",
    "plt.suptitle(\"Distributions of Mean Distribution Prices for Fuels in Brazil\", fontsize=18)\n",
    "\n",
    "# Format LPG plot\n",
    "ax[1].yaxis.tick_right()\n",
    "ax[1].yaxis.set_label_position(\"right\")\n",
    "ax[0].set_xlabel('Product', fontsize=16)\n",
    "ax[1].set_xlabel('LPG')\n",
    "ax[0].set_ylabel('Price Group 1: Liquid Fuels & Natural Gas', fontsize=16)\n",
    "ax[1].set_ylabel('Price Group 2: LPG', fontsize=16)\n",
    "ax[1].set(xticklabels=[])\n",
    "\n",
    "\n",
    "# Add subplot for LPG\n",
    "plt.tight_layout(pad=5)"
   ]
  },
  {
   "cell_type": "markdown",
   "metadata": {},
   "source": [
    "*Mean_Dist_Price* Time Series plots:"
   ]
  },
  {
   "cell_type": "code",
   "execution_count": null,
   "metadata": {
    "scrolled": false
   },
   "outputs": [],
   "source": [
    "# Plot yearly Mean_Price\n",
    "fig, ax = plt.subplots(nrows=2, ncols=1, figsize=(12,9))\n",
    "\n",
    "# Plot of fuels not including LPG\n",
    "sns.lineplot(x=\"Year_Month\", y=\"Mean_Dist_Price\", data=df[df.Product!=\"LPG\"], hue=\"Product\", ax=ax[0], err_style=None)\n",
    "ax[0].set_xlabel(\"Year\")\n",
    "ax[0].set_title(\"Liquid Fuels + Natural Gas\", fontsize=14)\n",
    "\n",
    "# Plot of LPG\n",
    "sns.lineplot(x=\"Year_Month\", y=\"Mean_Dist_Price\", data=df[df.Product == \"LPG\"], hue=\"Product\", ax=ax[1], err_style=None)\n",
    "ax[1].set_xlabel(\"Year\")\n",
    "ax[1].set_title(\"LPG\", fontsize=14)\n",
    "\n",
    "plt.suptitle(\"Brazil: National Yearly Mean Distribution Price of Fuels\", fontsize=18)\n",
    "plt.tight_layout(pad=5)\n",
    "plt.show()"
   ]
  },
  {
   "cell_type": "markdown",
   "metadata": {},
   "source": [
    "# Questions\n",
    "\n",
    "* How did the price change for the different regions of Brazil?\n",
    "* Within a region, which states increased their prices the most?\n",
    "* Which states are the cheapest (or most expensive) for different types of fuels?\n",
    "\n",
    "To answer these questions we will 1) include geographical shape files of Brazil's states and 2) create a new dataframe containing the percent change in prices."
   ]
  },
  {
   "cell_type": "markdown",
   "metadata": {},
   "source": [
    "## Geographic Data"
   ]
  },
  {
   "cell_type": "code",
   "execution_count": null,
   "metadata": {},
   "outputs": [],
   "source": [
    "# URL to shape files of Brazil's states, made public courtesy of the Brazilian government\n",
    "#url = \"ftp://geoftp.ibge.gov.br/organizacao_do_territorio/malhas_territoriais/malhas_municipais/municipio_2016/Brasil/BR/br_unidades_da_federacao.zip\"\n",
    "\n",
    "url= '../data/external/br_unidades_da_federacao/'\n",
    "\n",
    "brazil_geo = gpd.read_file(url)\n",
    "\n",
    "# Correct state names to match current dataset\n",
    "state_dict = {\"RONDÔNIA\":\"RONDONIA\", \"PARÁ\":\"PARA\", \"AMAPÁ\":\"AMAPA\", \"MARANHÃO\":\"MARANHAO\",\n",
    "             \"PIAUÍ\":\"PIAUI\", \"CEARÁ\":\"CEARA\", \"PARAÍBA\":\"PARAIBA\", \"ESPÍRITO SANTO\":\"ESPIRITO SANTO\",\n",
    "             \"SÃO PAULO\":\"SAO PAULO\", \"PARANÁ\":\"PARANA\", \"GOIÁS\":\"GOIAS\", \"ACRE\":\"ACRE\",\n",
    "             \"AMAZONAS\":\"AMAZONAS\", \"RORAIMA\":\"RORAIMA\", \"TOCANTINS\":\"TOCANTINS\", \n",
    "             \"RIO GRANDE DO NORTE\":\"RIO GRANDE DO NORTE\", \"PERNAMBUCO\":\"PERNAMBUCO\", \n",
    "             \"ALAGOAS\":\"ALAGOAS\", \"SERGIPE\":\"SERGIPE\", \"BAHIA\":\"BAHIA\", \"MINAS GERAIS\":\"MINAS GERAIS\",\n",
    "             \"RIO DE JANEIRO\":\"RIO DE JANEIRO\", \"SANTA CATARINA\":\"SANTA CATARINA\", \"MATO GROSSO DO SUL\":\"MATO GROSSO DO SUL\", \n",
    "             \"MATO GROSSO\":\"MATO GROSSO\", \"DISTRITO FEDERAL\":\"DISTRITO FEDERAL\", \"RIO GRANDE DO SUL\":\"RIO GRANDE DO SUL\"}\n",
    "\n",
    "brazil_geo[\"NM_ESTADO\"] = brazil_geo.NM_ESTADO.map(state_dict)\n",
    "\n",
    "brazil_geo.crs = {\"init\": \"epsg:4326\"}\n",
    "\n",
    "brazil_geo.columns = ['State', 'Macroregion', 'CD_GEOCUF', 'geometry']\n",
    "\n",
    "brazil_geo[\"Macroregion\"] = brazil_geo.Macroregion.str.replace(\"-\", \" \")\n",
    "\n",
    "# Extract regions geography\n",
    "brazil_geo_region = brazil_geo.dissolve(by='Macroregion').reset_index()\n",
    "brazil_geo_region = brazil_geo_region[['Macroregion', 'geometry']]"
   ]
  },
  {
   "cell_type": "markdown",
   "metadata": {},
   "source": [
    "## Percent Change in Price Data"
   ]
  },
  {
   "cell_type": "code",
   "execution_count": null,
   "metadata": {
    "scrolled": true
   },
   "outputs": [],
   "source": [
    "# Create dataframe df_pct_change with percent change of prices\n",
    "\n",
    "macroregions = df.Macroregion.unique().tolist()\n",
    "\n",
    "df_pct_change = pd.DataFrame()\n",
    "\n",
    "count = 0\n",
    "\n",
    "for i in range(len(macroregions)):\n",
    "    region = macroregions[i]\n",
    "    states = df[df.Macroregion==region][\"State\"].unique()\n",
    "    \n",
    "    for i in range(len(states)):\n",
    "        state = states[i]\n",
    "        products = df[(df.Macroregion==region) & (df.State==state)][\"Product\"].unique()\n",
    "       \n",
    "        for i in range(len(products)):\n",
    "            product = products[i]\n",
    "            years = df[(df.Macroregion==region) & (df.State==state) & (df.Product==product)][\"Year\"].unique()\n",
    "            \n",
    "            mean_price = df[(df.Macroregion==region) & (df.State==state) & \n",
    "                            (df.Product==product)][\"Mean_Price\"].mean()\n",
    "            \n",
    "            # Percent change for raw data\n",
    "            first_price = df[(df.Macroregion==region) & (df.State==state) & \n",
    "                            (df.Product==product) & (df.Year==years[0])][\"Mean_Price\"].iloc[0]\n",
    "            last_price = df[(df.Macroregion==region) & (df.State==state) & \n",
    "                            (df.Product==product) & (df.Year==years[-1])][\"Mean_Price\"].iloc[-1]\n",
    "            price_pct_change = (last_price - first_price) / np.abs(first_price)\n",
    "        \n",
    "        \n",
    "            # Percent change for Normalized data\n",
    "            first_price_norm = df[(df.Macroregion==region) & (df.State==state) & \n",
    "                            (df.Product==product) & (df.Year==years[0])][\"Mean_Price_Norm\"].iloc[0]\n",
    "            last_price_norm = df[(df.Macroregion==region) & (df.State==state) & \n",
    "                            (df.Product==product) & (df.Year==years[-1])][\"Mean_Price_Norm\"].iloc[-1]\n",
    "            price_pct_change_norm = (last_price_norm - first_price_norm) / np.abs(first_price_norm)            \n",
    "            \n",
    "            # Add to dataframe\n",
    "            df_temp = pd.DataFrame({\"Macroregion\":region, \"State\":state, \n",
    "                                    \"Product\":product, \n",
    "                                    \"First_Year\":years[0], \"Last_Year\":years[-1], \"Fuel_Mean_Price\":mean_price,\n",
    "                                    \"First_Price\":first_price, \"Last_Price\":last_price, \"Price_Pct_Change\":price_pct_change, \n",
    "                                    \"First_Price_Norm\":first_price_norm, \"Last_Price_Norm\":last_price_norm, \n",
    "                                    \"Price_Pct_Change_Norm\":price_pct_change_norm\n",
    "                                   }, \n",
    "                                   index=[count])\n",
    "            \n",
    "            df_pct_change = df_pct_change.append(df_temp)\n",
    "            \n",
    "            count += 1"
   ]
  },
  {
   "cell_type": "markdown",
   "metadata": {},
   "source": [
    "## Merging Percentage Change Price with Geographic Data"
   ]
  },
  {
   "cell_type": "code",
   "execution_count": null,
   "metadata": {},
   "outputs": [],
   "source": [
    "# Group by percentage change by macroregion\n",
    "df_pct_change_region = df_pct_change.groupby(['Macroregion', 'Product']).mean().reset_index()\n",
    "\n",
    "# Merge new datasets with spatial data\n",
    "brazil_geo = brazil_geo.drop('Macroregion', axis=1).merge(df_pct_change, on='State')\n",
    "brazil_geo_region = brazil_geo_region.merge(df_pct_change_region, on='Macroregion')\n",
    "\n",
    "# Correct datatypes\n",
    "for col in ['First_Year', 'Last_Year']:\n",
    "    brazil_geo_region[col] = brazil_geo_region[col].astype(int)\n",
    "\n",
    "# Save geographical data to disk\n",
    "brazil_geo.to_csv('../data/interim/brazil_geo.csv')\n",
    "brazil_geo_region.to_csv('../data/interim/brazil_geo_region.csv')"
   ]
  },
  {
   "cell_type": "markdown",
   "metadata": {},
   "source": [
    "## *1. How did the price change for the different regions of Brazil?*\n",
    "\n",
    "To investigate the question of how price changed by region we will create a choropleth map varying by the percentage change in price for each fuel for the entire time data is available."
   ]
  },
  {
   "cell_type": "code",
   "execution_count": null,
   "metadata": {},
   "outputs": [],
   "source": [
    "# Create plot with raw price data\n",
    "nrows = 2\n",
    "ncols = 3\n",
    "products = df.Product.unique().tolist()\n",
    "\n",
    "fig_raw, ax_raw = plt.subplots(figsize=(20,10), nrows=nrows, ncols=ncols)\n",
    "\n",
    "n = 0\n",
    "\n",
    "for row in range(nrows):\n",
    "   \n",
    "    for col in range(ncols):\n",
    "        \n",
    "        divider = make_axes_locatable(ax_raw[row,col])\n",
    "        cax = divider.append_axes(\"right\", size=\"5%\", pad=0.1)\n",
    "        brazil_geo_region[brazil_geo_region.Product==products[n]].plot(column=\"Price_Pct_Change\", \n",
    "                                                                       legend=True, ax=ax_raw[row,col], cmap=\"Reds\", \n",
    "                                                                       cax=cax, edgecolor='black')\n",
    "        \n",
    "        # Plot titles\n",
    "        year_range = brazil_geo_region[brazil_geo_region.Product==products[n]][[\"First_Year\", \"Last_Year\"]]\n",
    "        year_range = [year_range[\"First_Year\"].min(), year_range[\"Last_Year\"].max()]\n",
    "        year_range = str(year_range[0]) + \"-\" + str(year_range[1])\n",
    "        \n",
    "        ax_raw[row,col].set_title(products[n] + \": \" + year_range)\n",
    "        ax_raw[row,col].set_xlabel(\"Longitude\")\n",
    "        ax_raw[row,col].set_ylabel(\"Latitude\")\n",
    "        n += 1\n",
    "\n",
    "fig_raw.suptitle(\"Percentage Price Change by Product by Region\", fontsize=20)\n",
    "plt.tight_layout(pad=5)\n",
    "plt.show()"
   ]
  },
  {
   "cell_type": "markdown",
   "metadata": {},
   "source": [
    "The choropleth provides an easy idea to how prices have changed for different fuel products in Brazil. "
   ]
  },
  {
   "cell_type": "markdown",
   "metadata": {},
   "source": [
    "## *2. Within a region, which states increased their prices the most?*"
   ]
  },
  {
   "cell_type": "markdown",
   "metadata": {},
   "source": [
    "Create a new dataframe to show percent change during the period data was collected:"
   ]
  },
  {
   "cell_type": "code",
   "execution_count": null,
   "metadata": {},
   "outputs": [],
   "source": [
    "# Create plot with raw price data\n",
    "nrows = 2\n",
    "ncols = 3\n",
    "products = df.Product.unique().tolist()\n",
    "\n",
    "fig_raw, ax_raw = plt.subplots(figsize=(20,12), nrows=nrows, ncols=ncols)\n",
    "\n",
    "n = 0\n",
    "\n",
    "for row in range(nrows):\n",
    "   \n",
    "    for col in range(ncols):\n",
    "        \n",
    "        divider = make_axes_locatable(ax_raw[row,col])\n",
    "        cax = divider.append_axes(\"right\", size=\"5%\", pad=0.1)\n",
    "        brazil_geo[brazil_geo.Product==products[n]].plot(column=\"Price_Pct_Change\", \n",
    "                                                                       legend=True, ax=ax_raw[row,col], cmap=\"Reds\", \n",
    "                                                                       cax=cax, edgecolor='black')\n",
    "        \n",
    "        # Plot titles\n",
    "        year_range = brazil_geo[brazil_geo.Product==products[n]][[\"First_Year\", \"Last_Year\"]]\n",
    "        year_range = [year_range[\"First_Year\"].min(), year_range[\"Last_Year\"].max()]\n",
    "        year_range = str(year_range[0]) + \"-\" + str(year_range[1])\n",
    "        \n",
    "        ax_raw[row,col].set_title(products[n] + \": \" + year_range, fontsize=20)\n",
    "        ax_raw[row,col].set_xlabel(\"Longitude\", fontsize=18)\n",
    "        ax_raw[row,col].set_ylabel(\"Latitude\", fontsize=18)\n",
    "        n += 1\n",
    "\n",
    "fig_raw.suptitle(\"Percentage Price Change by State\", fontsize=28)\n",
    "plt.tight_layout(pad=5)\n",
    "plt.show()"
   ]
  },
  {
   "cell_type": "markdown",
   "metadata": {},
   "source": [
    "## *3. Which states are the cheapest (or most expensive) for different types of fuels?*"
   ]
  },
  {
   "cell_type": "markdown",
   "metadata": {},
   "source": [
    "### Comparison of Mean Price of Fuels by State"
   ]
  },
  {
   "cell_type": "code",
   "execution_count": null,
   "metadata": {},
   "outputs": [],
   "source": [
    "# Group by State and Product\n",
    "brazil_fuel_state = brazil_geo.groupby([\"State\", \"Product\"])[\"Fuel_Mean_Price\"].mean().reset_index()\n",
    "\n",
    "# Rejoin with spatial data\n",
    "brazil_fuel_state_geo = brazil_geo.merge(df_fuel_state.drop(['Product','Fuel_Mean_Price'], axis=1) , on=\"State\")"
   ]
  },
  {
   "cell_type": "code",
   "execution_count": null,
   "metadata": {},
   "outputs": [],
   "source": [
    "# Define row and column quantity\n",
    "nrows = 2\n",
    "ncols = 3\n",
    "products = df.Product.unique()\n",
    "\n",
    "fig, ax = plt.subplots(figsize=(20,12), nrows=nrows, ncols=ncols)\n",
    "\n",
    "# set counter\n",
    "n = 0\n",
    "\n",
    "# Iterate through figure axes\n",
    "for row in range(nrows): # iterate through rows\n",
    "   \n",
    "    for col in range(ncols): # iterate through each column while on one row\n",
    "        \n",
    "        # Adjust location and size of legend\n",
    "        divider = make_axes_locatable(ax[row,col]) \n",
    "        cax = divider.append_axes(\"right\", size=\"5%\", pad=0.1)\n",
    "        \n",
    "        # Plot choropleth\n",
    "        brazil_fuel_state_geo[brazil_fuel_state_geo.Product==products[n]].plot(column=\"Fuel_Mean_Price\", \n",
    "                                                                       cmap=\"coolwarm\", \n",
    "                                                                       legend=True, ax=ax[row,col], \n",
    "                                                                       cax=cax, edgecolor='black')\n",
    "        \n",
    "        # Set title and labels\n",
    "        ax[row,col].set_title(products[n], fontsize=20)\n",
    "        ax[row,col].set_xlabel(\"Longitude\", fontsize=18)\n",
    "        ax[row,col].set_ylabel(\"Latitude\", fontsize=18)\n",
    "        \n",
    "        n += 1\n",
    "\n",
    "fig.suptitle(\"Brazil: Mean Price of Fuels by State\", fontsize=28)\n",
    "plt.tight_layout(pad=5)\n",
    "plt.show()"
   ]
  },
  {
   "cell_type": "code",
   "execution_count": null,
   "metadata": {},
   "outputs": [],
   "source": [
    "states = brazil_fuel_state.State.unique().tolist()\n",
    "\n",
    "# Create dataframe of cheapest fuels by state\n",
    "cheapest_fuels = pd.DataFrame()\n",
    "\n",
    "# Iterate through group-by objects and extract minimum: extreme_of_group(data, column, extreme)\n",
    "for i in range(len(states)):\n",
    "\n",
    "    state_group = brazil_fuel_state_geo.groupby(\"State\").get_group(states[i])\n",
    "    state_group = state_group[state_group.Fuel_Mean_Price == state_group.Fuel_Mean_Price.min()]\n",
    "    cheapest_fuels = cheapest_fuels.append(state_group)\n",
    "    cheapest_fuels.rename({\"Fuel_Mean_Price\":\"Fuel_Min_Price\"}, inplace=True)\n",
    "    \n",
    "# Create dataframe of cheapest fuels by state\n",
    "expensive_fuels = pd.DataFrame()\n",
    "\n",
    "# Remove LPG from list of products\n",
    "brazil_fuel_state_geo_noLPG = brazil_fuel_state_geo[brazil_fuel_state_geo.Product!=\"LPG\"]\n",
    "\n",
    "# Iterate through group-by objects and extract minimum: extreme_of_group(data, column, extreme)\n",
    "for i in range(len(states)):\n",
    "\n",
    "    state_group = brazil_fuel_state_geo_noLPG.groupby(\"State\").get_group(states[i])\n",
    "    state_group = state_group[state_group.Fuel_Mean_Price == state_group.Fuel_Mean_Price.max()]\n",
    "    expensive_fuels = expensive_fuels.append(state_group)\n",
    "    expensive_fuels.rename({\"Fuel_Mean_Price\":\"Fuel_Max_Price\"}, inplace=True)"
   ]
  },
  {
   "cell_type": "code",
   "execution_count": null,
   "metadata": {},
   "outputs": [],
   "source": [
    "fig, ax = plt.subplots(nrows=1, ncols=2, figsize=(20,10))\n",
    "\n",
    "# Choropleths of cheapest and most expensive fuels\n",
    "expensive_fuels.plot(column=\"Product\", cmap=\"Pastel2\", legend=True, ax=ax[1], edgecolor='black')\n",
    "cheapest_fuels.plot(column=\"Product\", cmap=\"Pastel2\", legend=True, ax=ax[0], edgecolor='black')\n",
    "\n",
    "# Format figure and axes\n",
    "ax[0].set_title(\"Least Expensive Fuels\", fontsize=20)\n",
    "ax[1].set_title(\"Most Expensive Fuels (Excluding LPG)\", fontsize=20)\n",
    "ax[0].set_ylabel(\"Latitude\", fontsize=18)\n",
    "ax[0].set_xlabel(\"Longitude\", fontsize=18)\n",
    "ax[1].set_ylabel(\"Latitude\", fontsize=18)\n",
    "ax[1].set_xlabel(\"Longitude\", fontsize=18)\n",
    "\n",
    "plt.suptitle(\"Brazil: Fuel Comparison by State\", fontsize=28)\n",
    "plt.tight_layout(pad=3)\n",
    "plt.show()"
   ]
  },
  {
   "cell_type": "markdown",
   "metadata": {},
   "source": [
    "# Conclusion\n",
    "\n",
    "This concludes the geospatial analysis. A thorough report on the topic would also include more quantitative analysis in addition to the graphs but for this purpose the visualizations are adequate."
   ]
  }
 ],
 "metadata": {
  "kernelspec": {
   "display_name": "Python 3",
   "language": "python",
   "name": "python3"
  },
  "language_info": {
   "codemirror_mode": {
    "name": "ipython",
    "version": 3
   },
   "file_extension": ".py",
   "mimetype": "text/x-python",
   "name": "python",
   "nbconvert_exporter": "python",
   "pygments_lexer": "ipython3",
   "version": "3.7.3"
  }
 },
 "nbformat": 4,
 "nbformat_minor": 1
}
